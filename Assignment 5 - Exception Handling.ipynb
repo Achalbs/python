{
 "cells": [
  {
   "cell_type": "markdown",
   "id": "1a4d9f2a-cc06-49bc-bf07-ea46b38f1d06",
   "metadata": {},
   "source": [
    "1: Read a file and display its contents\n"
   ]
  },
  {
   "cell_type": "code",
   "execution_count": 3,
   "id": "f3a40aa7-630f-4eb2-8d0a-c2d64b52f9bf",
   "metadata": {},
   "outputs": [],
   "source": [
    "def read_file(filename):\n",
    "    try:\n",
    "        with open(filename, 'r') as file:\n",
    "            content = file.read()\n",
    "            print(content)\n",
    "            print()\n",
    "    except FileNotFoundError:\n",
    "        print(\"File not found.\")"
   ]
  },
  {
   "cell_type": "code",
   "execution_count": 13,
   "id": "180611af-7a72-4ce9-976d-d8a9b503f36a",
   "metadata": {},
   "outputs": [
    {
     "name": "stdout",
     "output_type": "stream",
     "text": [
      "Hi, \n",
      "This is a sample file to read for Assignment 5 in Python\n",
      "\n"
     ]
    }
   ],
   "source": [
    "read_file('C:\\\\Users\\\\91949\\\\Desktop\\\\DSML\\\\sample.txt')\n"
   ]
  },
  {
   "cell_type": "markdown",
   "id": "4b6de67f-b645-47f6-be21-48133ac7d810",
   "metadata": {},
   "source": [
    "\n",
    "2:Copy contents of one file to another"
   ]
  },
  {
   "cell_type": "code",
   "execution_count": 15,
   "id": "57c1f82e-f2f2-4023-9f02-39c0a42e96bf",
   "metadata": {},
   "outputs": [],
   "source": [
    "def copy_file(source, destination):\n",
    "    try:\n",
    "        with open(source, 'r') as src, open(destination, 'w') as dest:\n",
    "            dest.write(src.read())\n",
    "    except FileNotFoundError:\n",
    "        print(\"Source file not found.\")"
   ]
  },
  {
   "cell_type": "code",
   "execution_count": 19,
   "id": "aa959586-74d0-4342-96d8-f932855e83d7",
   "metadata": {},
   "outputs": [
    {
     "name": "stdout",
     "output_type": "stream",
     "text": [
      "The source file content is :\n",
      "Hi, \n",
      "This is a sample file to read for Assignment 5 in Python\n",
      "\n",
      "The destination file content is:\n",
      "\n",
      "\n",
      "The content of the destination file after copying is :\n",
      "Hi, \n",
      "This is a sample file to read for Assignment 5 in Python\n",
      "\n"
     ]
    }
   ],
   "source": [
    "print(\"The source file content is :\")\n",
    "read_file('C:\\\\Users\\\\91949\\\\Desktop\\\\DSML\\\\sample.txt')\n",
    "print(\"The destination file content is:\")\n",
    "read_file('C:\\\\Users\\\\91949\\\\Desktop\\\\DSML\\\\sample2.txt')\n",
    "copy_file('C:\\\\Users\\\\91949\\\\Desktop\\\\DSML\\\\sample.txt','C:\\\\Users\\\\91949\\\\Desktop\\\\DSML\\\\sample2.txt')\n",
    "print(\"The content of the destination file after copying is :\")\n",
    "read_file('C:\\\\Users\\\\91949\\\\Desktop\\\\DSML\\\\sample2.txt')"
   ]
  },
  {
   "cell_type": "markdown",
   "id": "30fb6bae-edf7-4e9e-be55-02cc58f4f89d",
   "metadata": {},
   "source": [
    "3: Count total number of words in a file"
   ]
  },
  {
   "cell_type": "code",
   "execution_count": 21,
   "id": "ffa5ac67-04d4-450b-bfeb-5d7849c44cda",
   "metadata": {},
   "outputs": [],
   "source": [
    "def count_words(filename):\n",
    "    try :\n",
    "        with open(filename,\"r\") as file :\n",
    "            content=file.read()\n",
    "            word=content.split()\n",
    "            print (f\"Total number of words in file: {filename} is :\\n {len(word)}\")\n",
    "    except FileNotFoundError :\n",
    "        print(f\" No file named :{filename} Exists!!!\")"
   ]
  },
  {
   "cell_type": "code",
   "execution_count": 23,
   "id": "b159ec82-96de-4657-bcfd-b398752970f3",
   "metadata": {},
   "outputs": [
    {
     "name": "stdout",
     "output_type": "stream",
     "text": [
      "Total number of words in file: C:\\Users\\91949\\Desktop\\DSML\\sample2.txt is :\n",
      " 13\n"
     ]
    }
   ],
   "source": [
    "count_words('C:\\\\Users\\\\91949\\\\Desktop\\\\DSML\\\\sample2.txt')"
   ]
  },
  {
   "cell_type": "markdown",
   "id": "8198727d-aa6e-4ea6-b752-5e0cfa549ddf",
   "metadata": {},
   "source": [
    "4: Convert input string to an integer with exception handling\n"
   ]
  },
  {
   "cell_type": "code",
   "execution_count": 25,
   "id": "f161b00a-2218-433c-bf6f-d3d21a936e49",
   "metadata": {},
   "outputs": [],
   "source": [
    "def convert_to_int():\n",
    "    try :\n",
    "        num=int(input(\"Enter an integer :\"))\n",
    "        print(\"The entered integer is :\",num)\n",
    "        \n",
    "    except ValueError :\n",
    "        print(\" Enter a valid integer !!!\")"
   ]
  },
  {
   "cell_type": "code",
   "execution_count": 27,
   "id": "ed2c4c45-249a-4267-b100-c759054f51d3",
   "metadata": {},
   "outputs": [
    {
     "name": "stdin",
     "output_type": "stream",
     "text": [
      "Enter an integer : -45\n"
     ]
    },
    {
     "name": "stdout",
     "output_type": "stream",
     "text": [
      "The entered integer is : -45\n"
     ]
    }
   ],
   "source": [
    "convert_to_int()"
   ]
  },
  {
   "cell_type": "code",
   "execution_count": 31,
   "id": "375e57dd-fa45-441a-a8f1-df537c68fa66",
   "metadata": {},
   "outputs": [
    {
     "name": "stdin",
     "output_type": "stream",
     "text": [
      "Enter an integer : \\\n"
     ]
    },
    {
     "name": "stdout",
     "output_type": "stream",
     "text": [
      " Enter a valid integer !!!\n"
     ]
    }
   ],
   "source": [
    "convert_to_int()"
   ]
  },
  {
   "cell_type": "markdown",
   "id": "20437cf8-abd3-43ea-b907-5536d27cfcd3",
   "metadata": {},
   "source": [
    "5: Check for negative numbers in a list of integers\n"
   ]
  },
  {
   "cell_type": "code",
   "execution_count": 33,
   "id": "c1201006-14b4-4991-a473-a7793aedaa70",
   "metadata": {},
   "outputs": [],
   "source": [
    "def check_negative():\n",
    "    try:\n",
    "        numbers = list(map(int, input(\"Enter a list of integers separated by spaces: \").split())) # converts the input to a list of integers\n",
    "        has_negative = False                                                                      # Flag variable\n",
    "\n",
    "        for num in numbers:\n",
    "            if num < 0:\n",
    "                has_negative = True\n",
    "                break                                                                             # Stop the loop once a negative number is found\n",
    "\n",
    "        if has_negative:\n",
    "            raise ValueError(\"Negative numbers are not allowed.\")\n",
    "        else:\n",
    "            print(\"All integers are positive.\")\n",
    "            print(\"The list of integers is :\", numbers)\n",
    "    except ValueError as e:                                                                       # runs when someone tries to input anything other than integers\n",
    "        print(\"Error:\", e)\n"
   ]
  },
  {
   "cell_type": "code",
   "execution_count": 37,
   "id": "527a6067-170c-4d05-912e-d4ddd2657e99",
   "metadata": {},
   "outputs": [
    {
     "name": "stdin",
     "output_type": "stream",
     "text": [
      "Enter a list of integers separated by spaces:  234 56 768 23 0\n"
     ]
    },
    {
     "name": "stdout",
     "output_type": "stream",
     "text": [
      "All integers are positive.\n",
      "The list of integers is : [234, 56, 768, 23, 0]\n"
     ]
    }
   ],
   "source": [
    "check_negative()\n"
   ]
  },
  {
   "cell_type": "code",
   "execution_count": 39,
   "id": "70bcae49-39aa-4fda-8abc-4cc75e63e9f8",
   "metadata": {},
   "outputs": [
    {
     "name": "stdin",
     "output_type": "stream",
     "text": [
      "Enter a list of integers separated by spaces:  15 19 -45 87 31\n"
     ]
    },
    {
     "name": "stdout",
     "output_type": "stream",
     "text": [
      "Error: Negative numbers are not allowed.\n"
     ]
    }
   ],
   "source": [
    "check_negative()"
   ]
  },
  {
   "cell_type": "markdown",
   "id": "d257efa1-94cc-4c71-b89c-20ea5c1fa863",
   "metadata": {},
   "source": [
    "6: Compute average with exception handling\n"
   ]
  },
  {
   "cell_type": "code",
   "execution_count": 41,
   "id": "d3803735-3a92-4a28-bc41-b3f33a3cb675",
   "metadata": {},
   "outputs": [],
   "source": [
    "def calculate_avg():\n",
    "    try:\n",
    "        numbers = list(map(float,input(\"Enter a list of integers separated by spaces: \").split()))\n",
    "        avg=sum(numbers)/len(numbers)\n",
    "        print(f\"The average of numbers {numbers} is  :{avg}\")\n",
    "        \n",
    "    except ZeroDivisionError:\n",
    "        print(\"Error: Cannot compute average of an empty list.\")\n",
    "        \n",
    "    except ValueError:                                                                       # runs when someone tries to input anything other than integers\n",
    "        print(\"Enter only numbers!!!\") \n",
    "\n",
    "    finally:\n",
    "        print(\"Program execution finished.\")"
   ]
  },
  {
   "cell_type": "code",
   "execution_count": 43,
   "id": "992fad3b-8a5f-48a3-8f48-f99916d242a9",
   "metadata": {},
   "outputs": [
    {
     "name": "stdin",
     "output_type": "stream",
     "text": [
      "Enter a list of integers separated by spaces:  44.0 67.3 56.9 23.6 35.0\n"
     ]
    },
    {
     "name": "stdout",
     "output_type": "stream",
     "text": [
      "The average of numbers [44.0, 67.3, 56.9, 23.6, 35.0] is  :45.36\n",
      "Program execution finished.\n"
     ]
    }
   ],
   "source": [
    "calculate_avg()\n"
   ]
  },
  {
   "cell_type": "code",
   "execution_count": 45,
   "id": "1b003bdc-ed70-45df-8871-be616cae6f3a",
   "metadata": {},
   "outputs": [
    {
     "name": "stdin",
     "output_type": "stream",
     "text": [
      "Enter a list of integers separated by spaces:  \n"
     ]
    },
    {
     "name": "stdout",
     "output_type": "stream",
     "text": [
      "Error: Cannot compute average of an empty list.\n",
      "Program execution finished.\n"
     ]
    }
   ],
   "source": [
    "calculate_avg()"
   ]
  },
  {
   "cell_type": "code",
   "execution_count": 47,
   "id": "efbb65a2-5f85-4ed4-8053-4b23b5421ed4",
   "metadata": {},
   "outputs": [
    {
     "name": "stdin",
     "output_type": "stream",
     "text": [
      "Enter a list of integers separated by spaces:  \\\\\n"
     ]
    },
    {
     "name": "stdout",
     "output_type": "stream",
     "text": [
      "Enter only numbers!!!\n",
      "Program execution finished.\n"
     ]
    }
   ],
   "source": [
    "calculate_avg()\n"
   ]
  },
  {
   "cell_type": "markdown",
   "id": "04790389-a6ef-47e8-8182-585dda663663",
   "metadata": {},
   "source": [
    "7: Write a string to a file with exception handling\n"
   ]
  },
  {
   "cell_type": "code",
   "execution_count": 49,
   "id": "d4abe7d6-273c-4be6-8fb0-89523f56cb66",
   "metadata": {},
   "outputs": [],
   "source": [
    "def write_to_file():\n",
    "    try:\n",
    "        filename = input(\"Enter the filename: \")\n",
    "        content = input(\"Enter the string you want to write in the file: \")\n",
    "        with open(filename, 'w') as file:\n",
    "            file.write(content)\n",
    "        print(\"String written successfully!!\")\n",
    "        print(\"And the file content is :\")\n",
    "        with open(filename, 'r') as file:\n",
    "            content=file.read()\n",
    "            print(content)\n",
    "    except Exception as e:\n",
    "        print(\"An error occurred:\", e)"
   ]
  },
  {
   "cell_type": "code",
   "execution_count": 51,
   "id": "adab1971-fa3c-4a4a-a431-5e7f6a5518ae",
   "metadata": {},
   "outputs": [
    {
     "name": "stdin",
     "output_type": "stream",
     "text": [
      "Enter the filename:  sample.txt\n",
      "Enter the string you want to write in the file:  hello world\n"
     ]
    },
    {
     "name": "stdout",
     "output_type": "stream",
     "text": [
      "String written successfully!!\n",
      "And the file content is :\n",
      "hello world\n"
     ]
    }
   ],
   "source": [
    "write_to_file()\n"
   ]
  },
  {
   "cell_type": "code",
   "execution_count": null,
   "id": "12bb1c39-3633-44b3-93b4-2adfe7f386fd",
   "metadata": {},
   "outputs": [],
   "source": []
  }
 ],
 "metadata": {
  "kernelspec": {
   "display_name": "Python [conda env:base] *",
   "language": "python",
   "name": "conda-base-py"
  },
  "language_info": {
   "codemirror_mode": {
    "name": "ipython",
    "version": 3
   },
   "file_extension": ".py",
   "mimetype": "text/x-python",
   "name": "python",
   "nbconvert_exporter": "python",
   "pygments_lexer": "ipython3",
   "version": "3.12.7"
  }
 },
 "nbformat": 4,
 "nbformat_minor": 5
}
