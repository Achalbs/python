{
 "cells": [
  {
   "cell_type": "markdown",
   "id": "8191afe8-4685-4b39-964e-10387a9abecb",
   "metadata": {},
   "source": [
    "\n",
    "Excercise 1"
   ]
  },
  {
   "cell_type": "code",
   "execution_count": 2,
   "id": "aa9855ef-483d-4036-9371-545deaf12d18",
   "metadata": {},
   "outputs": [
    {
     "name": "stdout",
     "output_type": "stream",
     "text": [
      "My name is Anusree\n",
      "Student Number: ST0016\n",
      "Email Id : ksanusree92@gmail.com\n"
     ]
    }
   ],
   "source": [
    "print(\"My name is Anusree\")\n",
    "print(\"Student Number: ST0016\")\n",
    "print(\"Email Id : ksanusree92@gmail.com\")\n"
   ]
  },
  {
   "cell_type": "markdown",
   "id": "a1d03c4f-978d-49a9-9b63-19ef70449d63",
   "metadata": {},
   "source": [
    "\n",
    "Excercise 2"
   ]
  },
  {
   "cell_type": "code",
   "execution_count": 6,
   "id": "c0ad53b0-fd98-4f87-98dc-5ffc4a5bb0ab",
   "metadata": {},
   "outputs": [
    {
     "name": "stdout",
     "output_type": "stream",
     "text": [
      "My name is Anusree \n",
      "Student Number: ST0016 \n",
      "Email Id : ksanusree92@gmail.com\n"
     ]
    }
   ],
   "source": [
    "print(\"My name is Anusree \\nStudent Number: ST0016 \\nEmail Id : ksanusree92@gmail.com\")"
   ]
  },
  {
   "cell_type": "markdown",
   "id": "5e682984-3cff-4858-9712-90df0a251f2b",
   "metadata": {},
   "source": [
    "\n",
    "Excercise 3"
   ]
  },
  {
   "cell_type": "code",
   "execution_count": 4,
   "id": "aa871e65-965f-4cba-bd70-870a93351145",
   "metadata": {},
   "outputs": [
    {
     "name": "stdout",
     "output_type": "stream",
     "text": [
      "The sum of 14 and 7 is :  21\n",
      "The difference of 14 and 7 is :  7\n",
      "The product of 14 and 7 is :  98\n",
      "The result of dividing 14 and 7 is : 2.0\n",
      "The reminder when we divide 14 and 7 is :  0\n"
     ]
    }
   ],
   "source": [
    "a=14\n",
    "b=7\n",
    "print (f\"The sum of {a} and {b} is : \", a+b)\n",
    "print (f\"The difference of {a} and {b} is : \", a-b)\n",
    "print (f\"The product of {a} and {b} is : \", a*b)\n",
    "print (f\"The result of dividing {a} and {b} is :\", a/b)\n",
    "print (f\"The reminder when we divide {a} and {b} is : \", a%b)"
   ]
  },
  {
   "cell_type": "markdown",
   "id": "c548e287-308a-4bc6-8e73-09ce60d2bbf5",
   "metadata": {},
   "source": [
    "\n",
    "Excercise 4"
   ]
  },
  {
   "cell_type": "code",
   "execution_count": 8,
   "id": "8a4d138d-8ce0-4f72-aa05-b4bb0164f1e1",
   "metadata": {},
   "outputs": [
    {
     "name": "stdout",
     "output_type": "stream",
     "text": [
      "1\n",
      "2\n",
      "3\n",
      "4\n",
      "5\n"
     ]
    }
   ],
   "source": [
    "for i in range(1,6) :\n",
    "    print(i)"
   ]
  },
  {
   "cell_type": "markdown",
   "id": "4aad51fe-e790-495c-9e00-11b9ee6caef9",
   "metadata": {},
   "source": [
    "\n",
    "Excercise 5"
   ]
  },
  {
   "cell_type": "code",
   "execution_count": 10,
   "id": "3e60b534-74f2-4708-b448-d417323a2ef9",
   "metadata": {},
   "outputs": [
    {
     "name": "stdout",
     "output_type": "stream",
     "text": [
      "\"SDK\" stands for \"Software Development Kit\", whereas \n",
      " \"IDE\" stands for \"Integrated Development Environment\".\n"
     ]
    }
   ],
   "source": [
    "print(\"\\\"SDK\\\" stands for \\\"Software Development Kit\\\", whereas \\n \\\"IDE\\\" stands for \\\"Integrated Development Environment\\\".\")\n"
   ]
  },
  {
   "cell_type": "markdown",
   "id": "981606c4-8b40-4fad-89d6-dd07ecddd2a4",
   "metadata": {},
   "source": [
    "\n",
    "Excercise 6"
   ]
  },
  {
   "cell_type": "code",
   "execution_count": 12,
   "id": "d00ff10c-bc9a-4542-b2af-cf57745f30cc",
   "metadata": {},
   "outputs": [
    {
     "name": "stdout",
     "output_type": "stream",
     "text": [
      "python is an \"awesome\" language.\n",
      "python\n",
      "\t2023\n",
      "I'm from Entri\n",
      "5\n",
      "e\n",
      "Entri\n",
      "2023\n",
      "Entr2023\n",
      "Entri*20"
     ]
    }
   ],
   "source": [
    "print(\"python is an \\\"awesome\\\" language.\")\n",
    "print(\"python\\n\\t2023\") # \\n is to go to the next line & \\t is for tab\n",
    "print('I\\'m from Entri.\\b') # \\b is the backspace\n",
    "print(\"\\65\")  # (ASCII value)\n",
    "print(\"\\x65\")  # (Hex value)\n",
    "print(\"Entri\", \"2023\", sep=\"\\n\")\n",
    "print(\"Entri\", \"2023\", sep=\"\\b\")  \n",
    "print(\"Entri\", \"2023\", sep=\"*\", end=\"\\b\\b\\b\\b\")\n"
   ]
  },
  {
   "cell_type": "markdown",
   "id": "911821c4-4a2f-4d4e-8b04-bec5f3157e79",
   "metadata": {},
   "source": [
    "\n",
    "Excercise 7"
   ]
  },
  {
   "cell_type": "code",
   "execution_count": 14,
   "id": "af8670a0-0e9d-4ac2-8712-6bebfe96b83a",
   "metadata": {},
   "outputs": [
    {
     "name": "stdout",
     "output_type": "stream",
     "text": [
      "Datatype of 23 is :  <class 'int'>\n",
      "Datatype of \"57\" is :  <class 'str'>\n",
      "Datatype of 98.3 is :  <class 'float'>\n",
      "Sum: 178.3\n",
      "Datatype of Sum: <class 'float'>\n"
     ]
    }
   ],
   "source": [
    "num = 23\n",
    "textnum = \"57\"\n",
    "decimal = 98.3\n",
    "\n",
    "print(f\"Datatype of {num} is : \", type(num))\n",
    "print(f\"Datatype of \\\"{textnum}\\\" is : \",type(textnum))\n",
    "print(f\"Datatype of {decimal} is : \",type(decimal))\n",
    "\n",
    "# Convert datatype and calculate the sum\n",
    "\n",
    "sum_value = num + int(textnum) + decimal\n",
    "print(\"Sum:\", sum_value)\n",
    "print(\"Datatype of Sum:\", type(sum_value))\n"
   ]
  },
  {
   "cell_type": "markdown",
   "id": "daf99fd0-8e31-42b0-afb2-20013017437c",
   "metadata": {},
   "source": [
    "\n",
    "Excercise 8"
   ]
  },
  {
   "cell_type": "code",
   "execution_count": 16,
   "id": "b1eaca73-ae14-464c-93b0-294b2b5a1b0a",
   "metadata": {},
   "outputs": [
    {
     "name": "stdout",
     "output_type": "stream",
     "text": [
      "This program calculates the total number of minutes in a year by multiplying totaL no. of days in year with hours in a day and minutes in an hour.\n",
      "Total minutes in a year: 525600\n"
     ]
    }
   ],
   "source": [
    "total_days_in_year = 365\n",
    "minutes_in_hour = 60\n",
    "hours_in_day = 24\n",
    "\n",
    "total_minutes = total_days_in_year * hours_in_day * minutes_in_hour\n",
    "print(f\"This program calculates the total number of minutes in a year by multiplying totaL no. of days in year with hours in a day and minutes in an hour.\")\n",
    "print(f\"Total minutes in a year: {total_minutes}\")"
   ]
  },
  {
   "cell_type": "markdown",
   "id": "dddb5d7b-218b-47eb-b474-703fb7047890",
   "metadata": {},
   "source": [
    "\n",
    "Excercise 9"
   ]
  },
  {
   "cell_type": "code",
   "execution_count": 21,
   "id": "935671fc-bd8a-43d2-83b3-cabda60d0c8e",
   "metadata": {},
   "outputs": [
    {
     "name": "stdin",
     "output_type": "stream",
     "text": [
      "Enter Your Name :  Achal\n"
     ]
    },
    {
     "name": "stdout",
     "output_type": "stream",
     "text": [
      "Hello! Achal, \n",
      "Welcome to Python Programming.\n"
     ]
    }
   ],
   "source": [
    "name = input(\"Enter Your Name : \")\n",
    "print(f\"Hello! {name}, \\nWelcome to Python Programming.\")"
   ]
  },
  {
   "cell_type": "markdown",
   "id": "7ecb65cb-df5f-41db-8110-1139e52c7bac",
   "metadata": {},
   "source": [
    "\n",
    "Excercise 10"
   ]
  },
  {
   "cell_type": "code",
   "execution_count": 23,
   "id": "61d6ab9c-cf87-4bc2-b541-e820b503d0bd",
   "metadata": {},
   "outputs": [
    {
     "name": "stdin",
     "output_type": "stream",
     "text": [
      "Please enter the amount in pounds:  50\n"
     ]
    },
    {
     "name": "stdout",
     "output_type": "stream",
     "text": [
      "£50.0 are $61.50\n"
     ]
    }
   ],
   "source": [
    "pounds = float(input(\"Please enter the amount in pounds: \"))\n",
    "conversion_rate = 1.23  # Pound to Dollar conversion rate\n",
    "dollars = pounds * conversion_rate\n",
    "print(f\"£{pounds} are ${dollars:.2f}\")\n"
   ]
  },
  {
   "cell_type": "code",
   "execution_count": null,
   "id": "7237a29b-2138-4263-b0d6-7e7742a1a887",
   "metadata": {},
   "outputs": [],
   "source": []
  }
 ],
 "metadata": {
  "kernelspec": {
   "display_name": "Python [conda env:base] *",
   "language": "python",
   "name": "conda-base-py"
  },
  "language_info": {
   "codemirror_mode": {
    "name": "ipython",
    "version": 3
   },
   "file_extension": ".py",
   "mimetype": "text/x-python",
   "name": "python",
   "nbconvert_exporter": "python",
   "pygments_lexer": "ipython3",
   "version": "3.12.7"
  }
 },
 "nbformat": 4,
 "nbformat_minor": 5
}
