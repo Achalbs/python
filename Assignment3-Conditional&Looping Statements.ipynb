{
 "cells": [
  {
   "cell_type": "markdown",
   "id": "fb2b1273-2730-4883-8bfb-953ef55ea15b",
   "metadata": {},
   "source": [
    "Excercise 1\n"
   ]
  },
  {
   "cell_type": "code",
   "execution_count": 2,
   "id": "de82cf04-61f9-442f-9a2b-8da49acf9597",
   "metadata": {},
   "outputs": [
    {
     "name": "stdin",
     "output_type": "stream",
     "text": [
      "Enter a number between 1 and 12 : 7\n"
     ]
    },
    {
     "name": "stdout",
     "output_type": "stream",
     "text": [
      "Month corresponding to 7 is : July\n"
     ]
    }
   ],
   "source": [
    "num=int(input(\"Enter a number between 1 and 12 :\"))\n",
    "if num<1 or num>12:\n",
    "    print(\"Enter a valid number between 1 and 12.\")\n",
    "else :    \n",
    "    months=[\"January\",\"February\",\"March\",\"April\",\"May\",\"June\",\"July\",\"August\",\"September\",\"October\",\"November\",\"December\"]\n",
    "    if  num >=1 or num<=12 :\n",
    "        print(f\"Month corresponding to {num} is : {months[num-1]}\")"
   ]
  },
  {
   "cell_type": "markdown",
   "id": "3f042a44-e488-48e5-ba91-0ced27c5997d",
   "metadata": {},
   "source": [
    "\n",
    "Excercise 2"
   ]
  },
  {
   "cell_type": "code",
   "execution_count": 6,
   "id": "4d0c8760-e383-42fd-8da8-49a0182b4f5e",
   "metadata": {},
   "outputs": [
    {
     "name": "stdin",
     "output_type": "stream",
     "text": [
      "Enter your age : 70\n"
     ]
    },
    {
     "name": "stdout",
     "output_type": "stream",
     "text": [
      "Your ticket costs £2.0 \n"
     ]
    }
   ],
   "source": [
    "ticket = 6.0\n",
    "age=int(input(\"Enter your age :\"))\n",
    "if age >=60:\n",
    "    ticket/=3\n",
    "if age<16 :\n",
    "    ticket/=2\n",
    "print(f\"Your ticket costs £{ticket} \")"
   ]
  },
  {
   "cell_type": "markdown",
   "id": "9a5c9797-7f28-4c91-9760-62d95421d6cf",
   "metadata": {},
   "source": [
    "\n",
    "Excercise 3"
   ]
  },
  {
   "cell_type": "code",
   "execution_count": 10,
   "id": "ddd7e3d9-d73e-4c2f-b253-f650d73c0511",
   "metadata": {},
   "outputs": [
    {
     "name": "stdin",
     "output_type": "stream",
     "text": [
      "Enter height in (m):  1.6\n",
      "Enter weight in (kg):  50\n"
     ]
    },
    {
     "name": "stdout",
     "output_type": "stream",
     "text": [
      "Your Body Mass Index(BMI) is : 19.531249999999996\n",
      "According to BMI you come under the NORMAL category\n"
     ]
    }
   ],
   "source": [
    "while True:\n",
    "    height = float(input(\"Enter height in (m): \"))\n",
    "    if height <= 0:\n",
    "        print(\"Invalid height! Please enter a valid height in meters (greater than 0).\")\n",
    "    else:\n",
    "        break\n",
    "while True:\n",
    "    weight = float(input(\"Enter weight in (kg): \"))\n",
    "    if weight <= 0:\n",
    "        print(\"Invalid weight! Please enter a valid height in meters (greater than 0).\")\n",
    "    else:\n",
    "        break\n",
    "\n",
    "bmi= weight/height**2\n",
    "print(\"Your Body Mass Index(BMI) is :\",bmi)\n",
    "if bmi <18.5:\n",
    "    status=\"UNDERWEIGHT\"\n",
    "elif 18.5 <= bmi <= 24.9:\n",
    "    status=\"NORMAL\"\n",
    "elif 25 <= bmi <= 29.9:\n",
    "    status=\"OVERWEIGHT\"\n",
    "else:\n",
    "    status=\"OBESE\"\n",
    "print(f\"According to BMI you come under the {status} category\")"
   ]
  },
  {
   "cell_type": "markdown",
   "id": "ca9bf32c-89c8-44d7-a158-95a7952c157c",
   "metadata": {},
   "source": [
    "\n",
    "Excercise 4"
   ]
  },
  {
   "cell_type": "code",
   "execution_count": 12,
   "id": "07c58ddc-6e11-4ffd-b411-8e68e5528a37",
   "metadata": {},
   "outputs": [
    {
     "name": "stdin",
     "output_type": "stream",
     "text": [
      "Enter number 1 : 70]\n",
      "Enter number 2 : 45\n",
      "Enter number 3 : 98\n"
     ]
    },
    {
     "name": "stdout",
     "output_type": "stream",
     "text": [
      "The list of nymbers is : ['70]', '45', '98']\n",
      "The greatest number in the list is : 98\n"
     ]
    }
   ],
   "source": [
    "list=[]\n",
    "i=0\n",
    "while i<3:\n",
    "    list.append(input(f\"Enter number {i+1} :\")) \n",
    "    i+=1\n",
    "print(\"The list of nymbers is :\",list)\n",
    "print(\"The greatest number in the list is :\",max(list))"
   ]
  },
  {
   "cell_type": "markdown",
   "id": "9a3214ae-8b2b-4cc6-aa95-7e24e68ed2aa",
   "metadata": {},
   "source": [
    "\n",
    "Excercise 5"
   ]
  },
  {
   "cell_type": "code",
   "execution_count": 14,
   "id": "771d884f-e18d-44dc-9de2-caee9bb45603",
   "metadata": {},
   "outputs": [
    {
     "name": "stdin",
     "output_type": "stream",
     "text": [
      "Enter the number: 12\n"
     ]
    },
    {
     "name": "stdout",
     "output_type": "stream",
     "text": [
      "Factorial of 12 is 479001600.\n"
     ]
    }
   ],
   "source": [
    "num=int(input(\"Enter the number:\"))\n",
    "if num<0:\n",
    "    print(\"Negative numbers dont have factorials!!\")\n",
    "else :    \n",
    "    factorial=1\n",
    "    if num>1:\n",
    "        for i in range(1,num+1):\n",
    "            factorial*=i \n",
    "    print(f\"Factorial of {num} is {factorial}.\")    "
   ]
  },
  {
   "cell_type": "markdown",
   "id": "1c41a366-3bb2-42c9-b8a0-981fa521e504",
   "metadata": {},
   "source": [
    "\n",
    "Excercise 6"
   ]
  },
  {
   "cell_type": "code",
   "execution_count": 16,
   "id": "e571d255-a2ce-43df-b727-ee3c50f5dde0",
   "metadata": {},
   "outputs": [
    {
     "name": "stdin",
     "output_type": "stream",
     "text": [
      "Enter a number:  730278\n"
     ]
    },
    {
     "name": "stdout",
     "output_type": "stream",
     "text": [
      "The reversed number corresponding to 730278 is : 872037\n"
     ]
    }
   ],
   "source": [
    "num = int(input(\"Enter a number: \"))\n",
    "if num < 0:\n",
    "    print(\"Enter a valid number!!\")\n",
    "num1=num\n",
    "rev_num = 0\n",
    "\n",
    "while num > 0:\n",
    "    digit = num % 10\n",
    "    rev_num = rev_num * 10 + digit\n",
    "    num //= 10                        # //is the floor operator\n",
    "\n",
    "print(f\"The reversed number corresponding to {num1} is : {rev_num}\")"
   ]
  },
  {
   "cell_type": "markdown",
   "id": "616b85b5-7c7c-41cc-9a1a-334f811b3692",
   "metadata": {},
   "source": [
    "Excercise 7\n"
   ]
  },
  {
   "cell_type": "code",
   "execution_count": 18,
   "id": "27f47a31-e22e-477a-8f38-b953e63dbad5",
   "metadata": {},
   "outputs": [
    {
     "name": "stdin",
     "output_type": "stream",
     "text": [
      "Enter the number : 9\n",
      "Enter the range limit : 7\n"
     ]
    },
    {
     "name": "stdout",
     "output_type": "stream",
     "text": [
      "7 multiples of 9 are :\n",
      "9\n",
      "18\n",
      "27\n",
      "36\n",
      "45\n",
      "54\n",
      "63\n"
     ]
    }
   ],
   "source": [
    "num=int(input(\"Enter the number :\"))\n",
    "limit=int(input(\"Enter the range limit :\"))\n",
    "print(f\"{limit} multiples of {num} are :\")\n",
    "for i in range(1,limit+1):\n",
    "    print(num*i)"
   ]
  },
  {
   "cell_type": "markdown",
   "id": "1bd655e0-48e0-4d58-969a-50acbb46c908",
   "metadata": {},
   "source": [
    "Excercise 8\n"
   ]
  },
  {
   "cell_type": "code",
   "execution_count": 20,
   "id": "17d2e9ca-09c4-4754-97a2-4e458174304c",
   "metadata": {},
   "outputs": [
    {
     "name": "stdin",
     "output_type": "stream",
     "text": [
      "Enter youe input : Hello\n"
     ]
    },
    {
     "name": "stdout",
     "output_type": "stream",
     "text": [
      "Hello\n"
     ]
    },
    {
     "name": "stdin",
     "output_type": "stream",
     "text": [
      "Enter youe input : Achal\n"
     ]
    },
    {
     "name": "stdout",
     "output_type": "stream",
     "text": [
      "Achal\n"
     ]
    },
    {
     "name": "stdin",
     "output_type": "stream",
     "text": [
      "Enter youe input : Done\n"
     ]
    },
    {
     "name": "stdout",
     "output_type": "stream",
     "text": [
      "Done\n"
     ]
    }
   ],
   "source": [
    "while True:\n",
    "    val=input(\"Enter youe input :\")\n",
    "    if val.casefold()==\"done\":        # casefold() is used to perform case-insensitive string comparison\n",
    "        print(val)\n",
    "        break\n",
    "    print(val)\n"
   ]
  },
  {
   "cell_type": "markdown",
   "id": "97b1d7c9-6201-454f-b332-cb7b0d39ea3c",
   "metadata": {},
   "source": [
    "Excercise 9\n"
   ]
  },
  {
   "cell_type": "code",
   "execution_count": 22,
   "id": "fa939dfb-2f84-46fd-8d45-dc305bfae991",
   "metadata": {},
   "outputs": [
    {
     "name": "stdout",
     "output_type": "stream",
     "text": [
      "1\n",
      "2\n",
      "Fizz\n",
      "4\n",
      "Buzz\n",
      "Fizz\n",
      "7\n",
      "8\n",
      "Fizz\n",
      "Buzz\n"
     ]
    }
   ],
   "source": [
    "for i in range(1,11):\n",
    "    if i%3==0 and i%5==0 :\n",
    "        print(\"FizzBuzz\")\n",
    "    elif i%3==0:\n",
    "        print(\"Fizz\")\n",
    "    elif i%5==0:\n",
    "        print(\"Buzz\")\n",
    "    else:\n",
    "        print(i)"
   ]
  },
  {
   "cell_type": "markdown",
   "id": "e6aa371d-a435-4783-a164-eecd41334786",
   "metadata": {},
   "source": [
    "Excercise 10\n"
   ]
  },
  {
   "cell_type": "code",
   "execution_count": 24,
   "id": "cf29cc68-27d3-4041-bee8-aeeae5a84015",
   "metadata": {},
   "outputs": [
    {
     "name": "stdout",
     "output_type": "stream",
     "text": [
      "The required series is :\n",
      "5 4 3 2 1 4 3 2 1 3 2 1 2 1 1 "
     ]
    }
   ],
   "source": [
    "num=5\n",
    "print(\"The required series is :\")\n",
    "while num>0:\n",
    "    for i in range(num,0,-1):\n",
    "        print(i, end=\" \")\n",
    "    num-=1"
   ]
  },
  {
   "cell_type": "markdown",
   "id": "be210703-721f-4b46-84a8-1cb223a6e59a",
   "metadata": {},
   "source": [
    "Another way of printing the output series\n"
   ]
  },
  {
   "cell_type": "code",
   "execution_count": 26,
   "id": "fa9556c7-1e80-43cb-b882-13489ba5ab9d",
   "metadata": {},
   "outputs": [
    {
     "name": "stdout",
     "output_type": "stream",
     "text": [
      "The required series is :\n",
      "5 4 3 2 1 \n",
      "4 3 2 1 \n",
      "3 2 1 \n",
      "2 1 \n",
      "1 \n"
     ]
    }
   ],
   "source": [
    "num=5\n",
    "print(\"The required series is :\")\n",
    "while num>0:\n",
    "    for i in range(num,0,-1):\n",
    "        print(i, end=\" \")\n",
    "    print()\n",
    "    num-=1\n"
   ]
  },
  {
   "cell_type": "code",
   "execution_count": null,
   "id": "210efd31-2da6-4f4e-b26c-13a0df290061",
   "metadata": {},
   "outputs": [],
   "source": []
  }
 ],
 "metadata": {
  "kernelspec": {
   "display_name": "Python [conda env:base] *",
   "language": "python",
   "name": "conda-base-py"
  },
  "language_info": {
   "codemirror_mode": {
    "name": "ipython",
    "version": 3
   },
   "file_extension": ".py",
   "mimetype": "text/x-python",
   "name": "python",
   "nbconvert_exporter": "python",
   "pygments_lexer": "ipython3",
   "version": "3.12.7"
  }
 },
 "nbformat": 4,
 "nbformat_minor": 5
}
