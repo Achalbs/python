{
 "cells": [
  {
   "cell_type": "markdown",
   "id": "e57f5b9a-7c94-49df-90be-50ce3d2eeef7",
   "metadata": {},
   "source": [
    "\n",
    "Assignment 5 - Functions"
   ]
  },
  {
   "cell_type": "markdown",
   "id": "e9698ffd-ef54-411c-a87b-a54d09cb4906",
   "metadata": {},
   "source": [
    "\n",
    "The len() function in Python return the number of elements in an object, which can be a string, list, tuple, set, dictionary etc."
   ]
  },
  {
   "cell_type": "markdown",
   "id": "429648bf-d660-4243-93b2-a8e88227362a",
   "metadata": {},
   "source": [
    "1. To find the length of a list using len() function\n"
   ]
  },
  {
   "cell_type": "code",
   "execution_count": 2,
   "id": "d4cf86a3-6065-4aaa-a0d3-e20ef2462862",
   "metadata": {},
   "outputs": [
    {
     "name": "stdout",
     "output_type": "stream",
     "text": [
      "The length of list, age is :6\n"
     ]
    }
   ],
   "source": [
    "age=[4,7,32,38,65,75]\n",
    "print(f\"The length of list, age is :{len(age)}\")"
   ]
  },
  {
   "cell_type": "code",
   "execution_count": 6,
   "id": "fc34977a-0944-4ded-bcb0-bfdbcc9ae5a4",
   "metadata": {},
   "outputs": [
    {
     "name": "stdout",
     "output_type": "stream",
     "text": [
      "The length of the list, name is : 4\n"
     ]
    }
   ],
   "source": [
    "name=[\"Aradhya\",\"Ameya\",\"Achal\",\"Sudeesh\"]\n",
    "print(\"The length of the list, name is :\",len(name))"
   ]
  },
  {
   "cell_type": "markdown",
   "id": "bea8057b-6d7e-4724-9c5e-f410dc9c7e36",
   "metadata": {},
   "source": [
    "\n",
    "2. Write a Python function greet(name) that takes a person's name as input and prints \"Hello, [name]!\""
   ]
  },
  {
   "cell_type": "code",
   "execution_count": 12,
   "id": "05b0036d-be44-4c11-bdd8-736350606c61",
   "metadata": {},
   "outputs": [
    {
     "name": "stdout",
     "output_type": "stream",
     "text": [
      "Hello, Achal\n"
     ]
    }
   ],
   "source": [
    "def greet(name):\n",
    "    print(f\"Hello, {name}\")\n",
    "greet(\"Achal\")"
   ]
  },
  {
   "cell_type": "markdown",
   "id": "dc8b171c-d753-473b-91e3-c51176840f1e",
   "metadata": {},
   "source": [
    "3.Function to find the maximum value in a list without using max()"
   ]
  },
  {
   "cell_type": "code",
   "execution_count": 14,
   "id": "3b56203e-a019-4f63-9ca6-e5d26cfacefb",
   "metadata": {},
   "outputs": [
    {
     "name": "stdout",
     "output_type": "stream",
     "text": [
      "Enter integer values:(type 'done' to finish):\n"
     ]
    },
    {
     "name": "stdin",
     "output_type": "stream",
     "text": [
      "Enter a number:  45\n",
      "Enter a number:  67\n",
      "Enter a number:  121\n",
      "Enter a number:  98\n",
      "Enter a number:  99\n",
      "Enter a number:  Done\n"
     ]
    },
    {
     "name": "stdout",
     "output_type": "stream",
     "text": [
      "\n",
      "Your list is: [45, 67, 121, 98, 99]\n",
      "The maximum number from the list is : 121\n"
     ]
    }
   ],
   "source": [
    "list1 = []\n",
    "\n",
    "print(\"Enter integer values:(type 'done' to finish):\")\n",
    "\n",
    "while True:\n",
    "    user_input = input(\"Enter a number: \") \n",
    "    \n",
    "    if user_input.lower() == \"done\":  \n",
    "        break\n",
    "\n",
    "    try:\n",
    "        number = int(user_input)  # Convert input to an integer\n",
    "        list1.append(number)   # Add to the list if successful\n",
    "    except ValueError:\n",
    "        print(\"Invalid input! Please enter an integer.\")\n",
    "\n",
    "print(\"\\nYour list is:\", list1)\n",
    "\n",
    "def max_list(list):\n",
    "    if not list:\n",
    "        return print(\"Enter a number list\")\n",
    "    max=0\n",
    "    l=len(list)\n",
    "    for i in range(0,l):\n",
    "        if list[i]>=max :\n",
    "            max=list[i]\n",
    "    return max\n",
    "\n",
    "maximum=max_list(list1)\n",
    "print(f\"The maximum number from the list is : {maximum}\")\n"
   ]
  },
  {
   "cell_type": "markdown",
   "id": "4e683d28-ac11-4cb9-bd82-9fe76d48ab3c",
   "metadata": {},
   "source": [
    "4. Write a program where a global variable and a local variable have the same name and show how Python differentiates between them.\n"
   ]
  },
  {
   "cell_type": "markdown",
   "id": "d543fd6a-0b0c-494a-b417-1c5a4cdb3bab",
   "metadata": {},
   "source": [
    "\n",
    "\n",
    "1. Local Variables:\n",
    "In Python, local variabls are defined inside a function and can only be accessed within that function. They are created when the function is called and destroyed when the function ends.\n",
    "2. Global Variables:\n",
    "Global variables are declared outside any function and can be accessed anywhere in the script. Their values persist throughout the execution of the program."
   ]
  },
  {
   "cell_type": "code",
   "execution_count": 16,
   "id": "64abea70-0ab3-4c52-b31a-4cbb4a542e5a",
   "metadata": {},
   "outputs": [
    {
     "name": "stdout",
     "output_type": "stream",
     "text": [
      "Inside the function,  I am a Local variable\n",
      "Outside the function, I am a Global Variable\n"
     ]
    }
   ],
   "source": [
    "var = \"I am a Global Variable\"\n",
    "\n",
    "def variablescope():\n",
    "    var=\"I am a Local variable\"     # same name var as the global variable\n",
    "    print(\"Inside the function, \",var)\n",
    "    \n",
    "variablescope()\n",
    "print(\"Outside the function,\",var)"
   ]
  },
  {
   "cell_type": "markdown",
   "id": "c07c19fd-354c-4491-aab8-a1976c1b15a3",
   "metadata": {},
   "source": [
    "5.Function to calculate the area of a rectangle with a default width of 5\n"
   ]
  },
  {
   "cell_type": "code",
   "execution_count": 18,
   "id": "d102772d-5b21-4fd8-bf27-afd370127211",
   "metadata": {},
   "outputs": [
    {
     "name": "stdout",
     "output_type": "stream",
     "text": [
      "Area with both arguments: 40\n",
      "Area with default width: 50\n"
     ]
    }
   ],
   "source": [
    "def calculate_area(length, width=5):\n",
    "    return length * width\n",
    "\n",
    "print(\"Area with both arguments:\", calculate_area(10, 4))  \n",
    "print(\"Area with default width:\", calculate_area(10))  "
   ]
  },
  {
   "cell_type": "code",
   "execution_count": null,
   "id": "7a5fea08-076a-4ae6-aeee-8e505623dff8",
   "metadata": {},
   "outputs": [],
   "source": []
  }
 ],
 "metadata": {
  "kernelspec": {
   "display_name": "Python [conda env:base] *",
   "language": "python",
   "name": "conda-base-py"
  },
  "language_info": {
   "codemirror_mode": {
    "name": "ipython",
    "version": 3
   },
   "file_extension": ".py",
   "mimetype": "text/x-python",
   "name": "python",
   "nbconvert_exporter": "python",
   "pygments_lexer": "ipython3",
   "version": "3.12.7"
  }
 },
 "nbformat": 4,
 "nbformat_minor": 5
}
