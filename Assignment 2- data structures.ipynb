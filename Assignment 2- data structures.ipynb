{
 "cells": [
  {
   "cell_type": "markdown",
   "id": "0111050e-62a8-4707-a802-10ddb80dd2a8",
   "metadata": {},
   "source": [
    "\n",
    "List Excercises"
   ]
  },
  {
   "cell_type": "code",
   "execution_count": null,
   "id": "4154725c-d712-4ac6-aa7b-b58a85687ea7",
   "metadata": {},
   "outputs": [],
   "source": [
    "Excercise 1"
   ]
  },
  {
   "cell_type": "code",
   "execution_count": 4,
   "id": "eb8bf885-814a-42d0-be3b-ac3c74158b36",
   "metadata": {},
   "outputs": [
    {
     "name": "stdout",
     "output_type": "stream",
     "text": [
      "['Achal', 22, 'achalbs13@gmail.com', 'Kasaragod']\n"
     ]
    }
   ],
   "source": [
    "list=[\"Achal\", 22,\"achalbs13@gmail.com\",\"Kasaragod\"]\n",
    "print(list)\n"
   ]
  },
  {
   "cell_type": "code",
   "execution_count": 6,
   "id": "e21375a7-cb20-4fbe-a8c0-e01e40bc1ce6",
   "metadata": {},
   "outputs": [
    {
     "name": "stdout",
     "output_type": "stream",
     "text": [
      "The list of 5 random numbers is : [37, 32, 7, 4, 75]\n"
     ]
    }
   ],
   "source": [
    "list_num=[37,32,7,4,75]\n",
    "print(\"The list of 5 random numbers is :\",list_num)"
   ]
  },
  {
   "cell_type": "markdown",
   "id": "76d9b404-b2f7-4bc8-bc24-f429ed625abb",
   "metadata": {},
   "source": [
    "\n",
    "Excercise 2"
   ]
  },
  {
   "cell_type": "code",
   "execution_count": 8,
   "id": "dea4ddb7-346c-434c-9e45-655ce6ae0664",
   "metadata": {},
   "outputs": [
    {
     "name": "stdout",
     "output_type": "stream",
     "text": [
      "The updated list is : [37, 32, 7, 4, 75, 28, 35, 36]\n"
     ]
    }
   ],
   "source": [
    "list_num.extend([28,35,36])   # extend fn to add more than 1 items to the list\n",
    "print(\"The updated list is :\",list_num)"
   ]
  },
  {
   "cell_type": "markdown",
   "id": "fdb53749-214c-4d6d-8290-85bd104a3ff5",
   "metadata": {},
   "source": [
    "\n",
    "Excercise 3"
   ]
  },
  {
   "cell_type": "code",
   "execution_count": 10,
   "id": "86629da3-39e6-4e78-bd11-b4d0a30470ca",
   "metadata": {},
   "outputs": [
    {
     "name": "stdout",
     "output_type": "stream",
     "text": [
      "The items of the list are : \n",
      "37\n",
      "32\n",
      "7\n",
      "4\n",
      "75\n",
      "28\n",
      "35\n",
      "36\n"
     ]
    }
   ],
   "source": [
    "print(\"The items of the list are : \")\n",
    "for items in list_num :\n",
    "    print(items)\n",
    "\n"
   ]
  },
  {
   "cell_type": "markdown",
   "id": "8e6a61a2-0d20-479a-9f61-3935f13bd908",
   "metadata": {},
   "source": [
    "\n",
    "Dictionary Excercises"
   ]
  },
  {
   "cell_type": "markdown",
   "id": "1957e9dd-4d47-4e23-8dea-5a26610532e6",
   "metadata": {},
   "source": [
    "Excercise 1"
   ]
  },
  {
   "cell_type": "code",
   "execution_count": 12,
   "id": "d36ca2eb-35de-4f59-b1bf-f1e03871feb3",
   "metadata": {},
   "outputs": [
    {
     "name": "stdout",
     "output_type": "stream",
     "text": [
      "The personal details in the dictionary form is :  {'Name': 'John', 'Age': 25, 'Address': 'Newyork'}\n"
     ]
    }
   ],
   "source": [
    "details = {\"Name\":\"John\", \"Age\":25, \"Address\":\"Newyork\"}\n",
    "print(\"The personal details in the dictionary form is : \",details)"
   ]
  },
  {
   "cell_type": "markdown",
   "id": "29c11798-98fa-4195-98d1-a40ab0b19b4c",
   "metadata": {},
   "source": [
    "Excercise 2"
   ]
  },
  {
   "cell_type": "code",
   "execution_count": 14,
   "id": "f27eae81-f3e2-4b0a-8502-004290b11d72",
   "metadata": {},
   "outputs": [
    {
     "name": "stdout",
     "output_type": "stream",
     "text": [
      "The updated dictionary is : {'Name': 'John', 'Age': 25, 'Address': 'Newyork', 'Phone': 1234567890}\n"
     ]
    }
   ],
   "source": [
    "details[\"Phone\"]=1234567890\n",
    "print(\"The updated dictionary is :\",details)"
   ]
  },
  {
   "cell_type": "markdown",
   "id": "2efddf27-6e9b-4a44-b337-bc6a0ae9909d",
   "metadata": {},
   "source": [
    "Set Excercises\n"
   ]
  },
  {
   "cell_type": "markdown",
   "id": "ecb98b86-7b50-490f-9d6f-fb321d7f0174",
   "metadata": {},
   "source": [
    "Excercise 1\n"
   ]
  },
  {
   "cell_type": "code",
   "execution_count": 16,
   "id": "d91d22e2-9398-42a8-afd0-f251fd1cb504",
   "metadata": {},
   "outputs": [
    {
     "name": "stdout",
     "output_type": "stream",
     "text": [
      "The original set is : {1, 2, 3, 4, 5}\n"
     ]
    }
   ],
   "source": [
    "set1={1,2,3,4,5}\n",
    "print(\"The original set is :\",set1)"
   ]
  },
  {
   "cell_type": "markdown",
   "id": "8a19c066-b348-4274-880f-7330db1569e5",
   "metadata": {},
   "source": [
    "Excercise 2\n"
   ]
  },
  {
   "cell_type": "code",
   "execution_count": 18,
   "id": "48ab8e2c-d76c-4111-ba0a-078d5f2bda98",
   "metadata": {},
   "outputs": [
    {
     "name": "stdout",
     "output_type": "stream",
     "text": [
      "{1, 2, 3, 4, 5, 6}\n"
     ]
    }
   ],
   "source": [
    "set1.add(6)\n",
    "print(set1)"
   ]
  },
  {
   "cell_type": "markdown",
   "id": "12a859b5-ee99-4691-acbc-bf0f087bddea",
   "metadata": {},
   "source": [
    "Excercise 3\n"
   ]
  },
  {
   "cell_type": "code",
   "execution_count": 20,
   "id": "0606518c-d342-4631-a736-96b54c5b4002",
   "metadata": {},
   "outputs": [
    {
     "name": "stdout",
     "output_type": "stream",
     "text": [
      "The set before removing the value 3 is :  {1, 2, 3, 4, 5, 6}\n",
      "The set after removing value 3 is : {1, 2, 4, 5, 6}\n"
     ]
    }
   ],
   "source": [
    "print(\"The set before removing the value 3 is : \",set1)\n",
    "set1.discard(3)\n",
    "print(\"The set after removing value 3 is :\",set1)\n"
   ]
  },
  {
   "cell_type": "markdown",
   "id": "5bd4b743-a97a-4186-a495-053c2b3a4a83",
   "metadata": {},
   "source": [
    "Tuple Excercises\n"
   ]
  },
  {
   "cell_type": "markdown",
   "id": "e4b9aa51-f83e-4469-9653-92e33915d36a",
   "metadata": {},
   "source": [
    "Excercise 1\n"
   ]
  },
  {
   "cell_type": "code",
   "execution_count": 22,
   "id": "cc6b33a5-eeb8-4610-919b-c22c59c45597",
   "metadata": {},
   "outputs": [
    {
     "name": "stdout",
     "output_type": "stream",
     "text": [
      "The tuple is : (1, 2, 3, 4)\n"
     ]
    }
   ],
   "source": [
    "tup1=(1,2,3,4)\n",
    "print(\"The tuple is :\",tup1)"
   ]
  },
  {
   "cell_type": "markdown",
   "id": "89bfb752-0fd4-409b-9755-910a9a0c3d11",
   "metadata": {},
   "source": [
    "Excercise 2\n"
   ]
  },
  {
   "cell_type": "code",
   "execution_count": 24,
   "id": "d6d38e42-c2c4-4777-ad49-b38bd5a99256",
   "metadata": {},
   "outputs": [
    {
     "name": "stdout",
     "output_type": "stream",
     "text": [
      "The length of the tuple is :  4\n"
     ]
    }
   ],
   "source": [
    "print(\"The length of the tuple is : \", len(tup1))\n"
   ]
  },
  {
   "cell_type": "code",
   "execution_count": null,
   "id": "37c42607-1d73-478c-a53e-d481911f7454",
   "metadata": {},
   "outputs": [],
   "source": []
  }
 ],
 "metadata": {
  "kernelspec": {
   "display_name": "Python [conda env:base] *",
   "language": "python",
   "name": "conda-base-py"
  },
  "language_info": {
   "codemirror_mode": {
    "name": "ipython",
    "version": 3
   },
   "file_extension": ".py",
   "mimetype": "text/x-python",
   "name": "python",
   "nbconvert_exporter": "python",
   "pygments_lexer": "ipython3",
   "version": "3.12.7"
  }
 },
 "nbformat": 4,
 "nbformat_minor": 5
}
