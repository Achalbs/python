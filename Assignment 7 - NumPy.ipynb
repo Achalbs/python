{
 "cells": [
  {
   "cell_type": "code",
   "execution_count": 2,
   "id": "2dc6a334-1a54-4ebf-ac03-8ae35e50796c",
   "metadata": {},
   "outputs": [],
   "source": [
    "import numpy as np\n",
    "import pandas as pd"
   ]
  },
  {
   "cell_type": "markdown",
   "id": "e57d878b-aac1-4b83-bcc1-aec29222ff05",
   "metadata": {},
   "source": [
    "Exercise 1: Create and reshape a numpy array\n"
   ]
  },
  {
   "cell_type": "code",
   "execution_count": 4,
   "id": "872537e2-7617-4e9a-86f5-9da83acd2d64",
   "metadata": {},
   "outputs": [
    {
     "name": "stdout",
     "output_type": "stream",
     "text": [
      "The array created is :  [ 1  2  3  4  5  6  7  8  9 10]\n",
      "Reshaped Array is :\n",
      "[[ 1  2  3  4  5]\n",
      " [ 6  7  8  9 10]]\n"
     ]
    }
   ],
   "source": [
    "arr1 = np.arange(1, 11)\n",
    "print(\"The array created is : \",arr1)\n",
    "arr1=arr1.reshape(2, 5)\n",
    "print(\"Reshaped Array is :\")\n",
    "print(arr1)\n"
   ]
  },
  {
   "cell_type": "markdown",
   "id": "7431b121-e4f3-456f-a463-91cf2344c112",
   "metadata": {},
   "source": [
    "Exercise 2: Extract elements between the 5th and 15th index\n"
   ]
  },
  {
   "cell_type": "code",
   "execution_count": 6,
   "id": "2bf16f8e-b9d6-4d12-a607-73b951a9939d",
   "metadata": {},
   "outputs": [
    {
     "name": "stdout",
     "output_type": "stream",
     "text": [
      "The extracted elements are:\n",
      "[ 6  7  8  9 10 11 12 13 14 15 16]\n"
     ]
    }
   ],
   "source": [
    "arr2 = np.arange(1, 21)\n",
    "extracted_elements = arr2[5:16]\n",
    "print(\"The extracted elements are:\")\n",
    "print(extracted_elements)"
   ]
  },
  {
   "cell_type": "markdown",
   "id": "f9b8df2c-29e0-41eb-bb6c-ccb7de2e14e3",
   "metadata": {},
   "source": [
    "Exercise 3: Create a Pandas series and add a new item"
   ]
  },
  {
   "cell_type": "code",
   "execution_count": 8,
   "id": "a07c100e-4ce9-49a6-9b96-7db9942cf7dd",
   "metadata": {},
   "outputs": [
    {
     "name": "stdout",
     "output_type": "stream",
     "text": [
      "The panda seires is :\n",
      " apples     3\n",
      "bananas    2\n",
      "oranges    1\n",
      "dtype: int64\n",
      "\n",
      " The new updated pandas series is :\n",
      "apples     3\n",
      "bananas    2\n",
      "oranges    1\n",
      "pears      4\n",
      "dtype: int64\n"
     ]
    }
   ],
   "source": [
    "data = {'apples': 3, 'bananas': 2, 'oranges': 1}\n",
    "series = pd.Series(data)\n",
    "print(\"The panda seires is :\\n\",series)\n",
    "series['pears'] = 4\n",
    "print(\"\\n The new updated pandas series is :\")\n",
    "print(series)\n"
   ]
  },
  {
   "cell_type": "markdown",
   "id": "d9c034a0-6ea4-4725-9e0c-93bf34648f17",
   "metadata": {},
   "source": [
    "Exercise 4: Create a DataFrame with name, age, and gender columns\n"
   ]
  },
  {
   "cell_type": "code",
   "execution_count": 12,
   "id": "f1f01cff-8fd5-44b6-8bdd-7560a8d1af77",
   "metadata": {},
   "outputs": [
    {
     "name": "stdout",
     "output_type": "stream",
     "text": [
      "\n",
      " The created dataframe is:\n",
      "\n",
      "      Name  Age Gender\n",
      "0    Alice   25      F\n",
      "1      Bob   32      M\n",
      "2  Charlie   40      M\n",
      "3    David   29      M\n",
      "4      Eva   35      F\n",
      "5  Francis   41      M\n",
      "6    Grace   27      F\n",
      "7   Hannah   30      F\n",
      "8    Issac   22      M\n",
      "9     Jack   45      M\n"
     ]
    }
   ],
   "source": [
    "data = {\n",
    "    'Name': ['Alice', 'Bob', 'Charlie', 'David', 'Eva', 'Francis', 'Grace', 'Hannah', 'Issac', 'Jack'],\n",
    "    'Age': [25, 32, 40, 29, 35, 41, 27, 30, 22, 45],\n",
    "    'Gender': ['F', 'M', 'M', 'M', 'F', 'M', 'F', 'F', 'M', 'M']\n",
    "}\n",
    "df = pd.DataFrame(data)\n",
    "print(\"\\n The created dataframe is:\\n\")\n",
    "print(df)"
   ]
  },
  {
   "cell_type": "markdown",
   "id": "80a95df1-6a22-49d6-9b0d-dfa2a3b5038b",
   "metadata": {},
   "source": [
    "Exercise 5: Add a new column 'occupation'\n"
   ]
  },
  {
   "cell_type": "code",
   "execution_count": 14,
   "id": "d22cbcba-0f5c-42b1-9d58-545f99f9c467",
   "metadata": {},
   "outputs": [
    {
     "name": "stdout",
     "output_type": "stream",
     "text": [
      "\n",
      " The updated dataframe is :\n",
      "\n",
      "      Name  Age Gender  Occupation\n",
      "0    Alice   25      F  Programmer\n",
      "1      Bob   32      M     Manager\n",
      "2  Charlie   40      M     Analyst\n",
      "3    David   29      M  Programmer\n",
      "4      Eva   35      F     Manager\n",
      "5  Francis   41      M     Analyst\n",
      "6    Grace   27      F  Programmer\n",
      "7   Hannah   30      F     Manager\n",
      "8    Issac   22      M     Analyst\n",
      "9     Jack   45      M  Programmer\n"
     ]
    }
   ],
   "source": [
    "occupations = ['Programmer', 'Manager', 'Analyst', 'Programmer', 'Manager', 'Analyst', 'Programmer', 'Manager', 'Analyst', 'Programmer']\n",
    "df['Occupation'] = occupations\n",
    "print(\"\\n The updated dataframe is :\\n\")\n",
    "print(df)"
   ]
  },
  {
   "cell_type": "markdown",
   "id": "97e57c3c-7a1e-438f-9ff1-483e28538c43",
   "metadata": {},
   "source": [
    "Exercise 6: Select rows where age >= 30\n"
   ]
  },
  {
   "cell_type": "code",
   "execution_count": 16,
   "id": "34687d07-3cd4-489b-9741-d2cddbd0477b",
   "metadata": {},
   "outputs": [
    {
     "name": "stdout",
     "output_type": "stream",
     "text": [
      "\n",
      " The dataframe after filtering rows with age >=30 is:\n",
      "\n",
      "      Name  Age Gender  Occupation\n",
      "1      Bob   32      M     Manager\n",
      "2  Charlie   40      M     Analyst\n",
      "4      Eva   35      F     Manager\n",
      "5  Francis   41      M     Analyst\n",
      "7   Hannah   30      F     Manager\n",
      "9     Jack   45      M  Programmer\n"
     ]
    }
   ],
   "source": [
    "filtered_df = df[df['Age'] >= 30]\n",
    "print(\"\\n The dataframe after filtering rows with age >=30 is:\\n\")\n",
    "print(filtered_df)\n"
   ]
  },
  {
   "cell_type": "markdown",
   "id": "5489c44a-87a6-4a18-939f-fd26d92dae66",
   "metadata": {},
   "source": [
    "Exercise 7: Convert to CSV and read it back\n"
   ]
  },
  {
   "cell_type": "code",
   "execution_count": 18,
   "id": "3af5de05-1497-4689-a6bb-87ecb170cef7",
   "metadata": {},
   "outputs": [
    {
     "name": "stdout",
     "output_type": "stream",
     "text": [
      "      Name  Age Gender  Occupation\n",
      "0    Alice   25      F  Programmer\n",
      "1      Bob   32      M     Manager\n",
      "2  Charlie   40      M     Analyst\n",
      "3    David   29      M  Programmer\n",
      "4      Eva   35      F     Manager\n",
      "5  Francis   41      M     Analyst\n",
      "6    Grace   27      F  Programmer\n",
      "7   Hannah   30      F     Manager\n",
      "8    Issac   22      M     Analyst\n",
      "9     Jack   45      M  Programmer\n"
     ]
    }
   ],
   "source": [
    "df.to_csv(\"data.csv\", index=False)\n",
    "print(pd.read_csv(\"data.csv\"))\n"
   ]
  },
  {
   "cell_type": "code",
   "execution_count": null,
   "id": "b61a127f-f36b-4403-ad65-6550edf789c4",
   "metadata": {},
   "outputs": [],
   "source": []
  }
 ],
 "metadata": {
  "kernelspec": {
   "display_name": "Python [conda env:base] *",
   "language": "python",
   "name": "conda-base-py"
  },
  "language_info": {
   "codemirror_mode": {
    "name": "ipython",
    "version": 3
   },
   "file_extension": ".py",
   "mimetype": "text/x-python",
   "name": "python",
   "nbconvert_exporter": "python",
   "pygments_lexer": "ipython3",
   "version": "3.12.7"
  }
 },
 "nbformat": 4,
 "nbformat_minor": 5
}
